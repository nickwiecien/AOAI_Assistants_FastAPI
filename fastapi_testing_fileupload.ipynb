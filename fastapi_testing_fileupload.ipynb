{
 "cells": [
  {
   "cell_type": "markdown",
   "metadata": {},
   "source": [
    "### File Upload Test"
   ]
  },
  {
   "cell_type": "code",
   "execution_count": 36,
   "metadata": {},
   "outputs": [],
   "source": [
    "import requests\n",
    "import json\n",
    "from IPython.display import display, HTML, Markdown, clear_output\n",
    "from dotenv import load_dotenv\n",
    "from openai import AzureOpenAI\n",
    "import os\n",
    "import base64\n",
    "\n",
    "load_dotenv(override=True)\n",
    "\n",
    "import threading\n",
    "\n",
    "# Function to process and display the streamed response\n",
    "def process_streamed_response(response):\n",
    "    buffer = ''\n",
    "    try:\n",
    "        for line in response.iter_lines(decode_unicode=True):\n",
    "            if line:\n",
    "                print(line)\n",
    "                if line.startswith('data: '):\n",
    "                    data_content = line[len('data: '):]\n",
    "                    # Parse JSON data\n",
    "                    data_dict = json.loads(data_content)\n",
    "                    content = data_dict.get('content', '')\n",
    "                    buffer += content\n",
    "                    # Clear the output and display the updated content\n",
    "                    clear_output(wait=True)\n",
    "                    if buffer.count('```') % 2 == 1:\n",
    "                        display(Markdown(buffer + '```'))\n",
    "                    else:\n",
    "                        display(Markdown(buffer))\n",
    "        # Ensure the final content is displayed\n",
    "        # clear_output(wait=True)\n",
    "        display(Markdown(buffer))\n",
    "    except Exception as e:\n",
    "        print(f\"An error occurred: {e}\")\n",
    "    finally:\n",
    "        response.close()"
   ]
  },
  {
   "cell_type": "code",
   "execution_count": 37,
   "metadata": {},
   "outputs": [],
   "source": [
    "with open('power_consumption.csv', 'rb') as f:\n",
    "    data = f.read()\n",
    "    b64_data = base64.b64encode(data).decode('utf-8')\n",
    "    body = {\n",
    "        'file_name': 'power_consumption.csv',\n",
    "        'file_data': b64_data,\n",
    "    }\n",
    "    thread_id = requests.post(\"http://127.0.0.1:8000/upload_file_and_create_thread\", json=body)"
   ]
  },
  {
   "cell_type": "code",
   "execution_count": null,
   "metadata": {},
   "outputs": [],
   "source": [
    "thread_id"
   ]
  },
  {
   "cell_type": "code",
   "execution_count": 38,
   "metadata": {},
   "outputs": [],
   "source": [
    "message = \"Plot out zone 2 power consumption\""
   ]
  },
  {
   "cell_type": "code",
   "execution_count": null,
   "metadata": {},
   "outputs": [],
   "source": [
    "url = 'http://127.0.0.1:8000/run_assistant'\n",
    "\n",
    "data={\n",
    "    'thread_id': thread_id.json(), \n",
    "    'message': message\n",
    "}\n",
    "\n",
    "# Send the POST request with stream=True\n",
    "response = requests.post(url, json=data, stream=True)\n",
    "\n",
    "# Check if the request was successful\n",
    "if response.status_code == 200:\n",
    "    # Start a separate thread to process the response\n",
    "    lthread = threading.Thread(target=process_streamed_response, args=(response,))\n",
    "    lthread.start()\n",
    "else:\n",
    "    print(f\"Error: {response.status_code}\")\n",
    "    print(response.text)"
   ]
  }
 ],
 "metadata": {
  "kernelspec": {
   "display_name": "Python 3",
   "language": "python",
   "name": "python3"
  },
  "language_info": {
   "codemirror_mode": {
    "name": "ipython",
    "version": 3
   },
   "file_extension": ".py",
   "mimetype": "text/x-python",
   "name": "python",
   "nbconvert_exporter": "python",
   "pygments_lexer": "ipython3",
   "version": "3.11.9"
  }
 },
 "nbformat": 4,
 "nbformat_minor": 2
}
